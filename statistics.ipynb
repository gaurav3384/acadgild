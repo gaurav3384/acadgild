{
 "cells": [
  {
   "cell_type": "code",
   "execution_count": null,
   "metadata": {},
   "outputs": [],
   "source": [
    "#Import Python libs \n",
    "\n",
    "import numpy as np\n",
    "import pandas as pd\n",
    "import matplotlib.pyplot as plt\n",
    "import math\n",
    "from scipy import stats\n",
    "np.random.seed(1)"
   ]
  },
  {
   "cell_type": "code",
   "execution_count": null,
   "metadata": {},
   "outputs": [],
   "source": [
    "# Discrete Data\n",
    "data1 = [1, 1, 2, 2, 2, 3, 4, 4, 7, 7, 7, 7, 7, 7]\n",
    "\n",
    "print (\"Mean of data1 =\", np.mean(data1))#, sum(data1), len(data1)) \n",
    "print (\"Median of data1 = \", np.median(data1))\n",
    "print (\"Mode of data1 = \", stats.mode(data1))"
   ]
  },
  {
   "cell_type": "code",
   "execution_count": null,
   "metadata": {},
   "outputs": [],
   "source": [
    "# Continuous Data\n",
    "data2 = np.random.normal(0,1,size=100)\n",
    "\n",
    "print (\"Mean of data2 =\", np.mean(data2))#, sum(data2), len(data2)) \n",
    "print (\"Median of data2 = \", np.median(data2))\n",
    "print (\"Mode of data2 = \", stats.mode(data2))"
   ]
  },
  {
   "cell_type": "code",
   "execution_count": null,
   "metadata": {},
   "outputs": [],
   "source": [
    "# Plot Discrete and Continuous Data\n",
    "\n",
    "fig, axes = plt.subplots(nrows=2)\n",
    "\n",
    "counts = np.bincount(data1)\n",
    "vals = np.arange(len(counts))\n",
    "axes[0].bar(counts, vals, align='center', color='lightblue')\n",
    "axes[0].set(title='Discrete Data')\n",
    "\n",
    "axes[1].hist(data2, color='salmon')\n",
    "axes[1].set(title='Continuous Data')\n",
    "\n",
    "for ax in axes:\n",
    "    ax.margins(0.05)\n",
    "    ax.set_ylim(bottom=0)\n",
    "plt.show()"
   ]
  },
  {
   "cell_type": "code",
   "execution_count": null,
   "metadata": {},
   "outputs": [],
   "source": [
    "#Range\n",
    "\n",
    "min_data1 = min(data1)\n",
    "max_data1 = max(data1)\n",
    "min_data2 = min(data2)\n",
    "max_data2 = max(data2)\n",
    "print (\"Range of data1 =\", max_data1-min_data1, max_data1, min_data1)\n",
    "print (\"Range of data2 =\", max_data2-min_data2, max_data2, min_data2)"
   ]
  },
  {
   "cell_type": "code",
   "execution_count": null,
   "metadata": {},
   "outputs": [],
   "source": [
    "# Variance and Standard Deviation\n",
    "\n",
    "print(\"Variance of data1 = \", np.var(data1), np.std(data1))\n",
    "print(\"Variance of data2 = \", np.var(data2), np.std(data2))"
   ]
  },
  {
   "cell_type": "code",
   "execution_count": null,
   "metadata": {},
   "outputs": [],
   "source": [
    "# PDF\n",
    "\n",
    "x= np.arange(-4,4,0.01)\n",
    "plt.plot(x, stats.norm.pdf(x))\n",
    "plt.show()"
   ]
  },
  {
   "cell_type": "code",
   "execution_count": null,
   "metadata": {},
   "outputs": [],
   "source": [
    "# Binomial Random Variable\n",
    "\n",
    "n = 4\n",
    "x = 2\n",
    "p = 0.5\n",
    "prob = (math.factorial(n)/(math.factorial(x)*math.factorial(n-x)))*(p**x) *((1-p)**(n-x))\n",
    "print (\"Binomial Random Variable =\", prob)"
   ]
  },
  {
   "cell_type": "code",
   "execution_count": null,
   "metadata": {},
   "outputs": [],
   "source": [
    "# Poisson distribution\n",
    "\n",
    "s = np.random.poisson(5, 10000)\n",
    "count, bins, ignored = plt.hist(s, 14, normed=True)\n",
    "plt.show()"
   ]
  },
  {
   "cell_type": "code",
   "execution_count": null,
   "metadata": {},
   "outputs": [],
   "source": [
    "# Normal Distribution\n",
    "\n",
    "mu = 0\n",
    "variance = 1\n",
    "sigma = math.sqrt(variance)\n",
    "x = np.linspace(mu - 3*sigma, mu + 3*sigma, 100)\n",
    "plt.plot(x,stats.norm.pdf(x, mu, sigma))\n",
    "plt.show()"
   ]
  },
  {
   "cell_type": "code",
   "execution_count": null,
   "metadata": {},
   "outputs": [],
   "source": [
    "# Difference of 2 distributions\n",
    "\n",
    "data3 = np.random.normal(1,2,size=100)\n",
    "\n",
    "print (\"data2 =\", np.mean(data2), np.var(data2), np.std(data2)) \n",
    "print (\"data3 =\", np.mean(data3), np.var(data3), np.std(data3)) \n",
    "diff_data = data2 - data3\n",
    "print(\"data2 - data3 = \", np.mean(diff_data), np.var(diff_data), np.std(diff_data))"
   ]
  },
  {
   "cell_type": "code",
   "execution_count": null,
   "metadata": {},
   "outputs": [],
   "source": []
  }
 ],
 "metadata": {
  "kernelspec": {
   "display_name": "Python 3",
   "language": "python",
   "name": "python3"
  },
  "language_info": {
   "codemirror_mode": {
    "name": "ipython",
    "version": 3
   },
   "file_extension": ".py",
   "mimetype": "text/x-python",
   "name": "python",
   "nbconvert_exporter": "python",
   "pygments_lexer": "ipython3",
   "version": "3.6.4"
  }
 },
 "nbformat": 4,
 "nbformat_minor": 2
}

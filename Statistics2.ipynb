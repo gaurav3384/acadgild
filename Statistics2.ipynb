{
 "cells": [
  {
   "cell_type": "markdown",
   "metadata": {},
   "source": [
    "Student's t-distribution is defined as the distribution of the random variable t which is (very loosely) the \"best\" that we can do not knowing sigma.\n",
    "\n",
    "\n",
    "\n",
    "The t-distribution plays a role in a number of widely used statistical analyses, including Student's t-test for assessing the statistical significance of the difference between two sample means, the construction of confidence intervals for the difference between two population means, and in linear regression analysis. The Student's t-distribution also arises in the Bayesian analysis of data from a normal family\n",
    "\n",
    "When should the T distribution be used?\n",
    "You must use the t-distribution table when working problems when the population standard deviation (σ) is not known and the sample size is small (n<30). General Correct Rule: If σ is not known, then using t-distribution is correct. If σ is known, then using the normal distribution is correct.\n",
    "\n",
    "What is the T value?\n",
    "When you perform a t-test, you're usually trying to find evidence of a significant difference between population means (2-sample t) or between the population mean and a hypothesized value (1-sample t). The t-value measures the size of the difference relative to the variation in your sample data.\n"
   ]
  },
  {
   "cell_type": "code",
   "execution_count": null,
   "metadata": {},
   "outputs": [],
   "source": [
    "import numpy as np\n",
    "import pandas as pd\n",
    "import matplotlib.pyplot as plt\n",
    "from scipy import stats\n",
    "\n",
    "np.random.seed(1)"
   ]
  },
  {
   "cell_type": "code",
   "execution_count": null,
   "metadata": {},
   "outputs": [],
   "source": [
    "#Studnt, n=999, p<0.05, 2-tail\n",
    "#equivalent to Excel TINV(0.05,999)\n",
    "print (stats.t.ppf(1-0.025, 999))"
   ]
  },
  {
   "cell_type": "code",
   "execution_count": null,
   "metadata": {},
   "outputs": [],
   "source": [
    "from scipy.stats import t\n",
    "fig, ax = plt.subplots(1, 1)\n",
    "df = 2.74335149908\n",
    "mean, var, skew, kurt = t.stats(df, moments='mvsk')\n",
    "\n",
    "x = np.linspace(t.ppf(0.01, df),t.ppf(0.99, df), 100)\n",
    "ax.plot(x, t.pdf(x, df),'r-', lw=5, alpha=0.6, label='t pdf')\n",
    "\n",
    "rv = t(df)\n",
    "ax.plot(x, rv.pdf(x), 'k-', lw=2, label='frozen pdf')\n",
    "\n",
    "vals = t.ppf([0.001, 0.5, 0.999], df)\n",
    "np.allclose([0.001, 0.5, 0.999], t.cdf(vals, df))\n",
    "\n",
    "r = t.rvs(df, size=1000)\n",
    "ax.hist(r, normed=True, histtype='stepfilled', alpha=0.2)\n",
    "ax.legend(loc='best', frameon=False)\n",
    "plt.show()"
   ]
  },
  {
   "cell_type": "code",
   "execution_count": null,
   "metadata": {},
   "outputs": [],
   "source": []
  },
  {
   "cell_type": "markdown",
   "metadata": {},
   "source": [
    "F Distribution\n",
    "\n",
    "In probability theory and statistics, the F-distribution, also known as Snedecor's F distribution or the Fisher–Snedecor distribution is a continuous probability distribution that arises frequently as the null distribution of a test statistic, most notably in the analysis of variance (ANOVA)\n",
    "\n",
    "\n",
    "Why do we use the F distribution?\n",
    "The main use of F-distribution is to test whether two independent samples have been drawn for the normal populations with the same variance, or if two independent estimates of the population variance are homogeneous or not, since it is often desirable to compare two variances rather than two averages.\n",
    "\n",
    "What is the F test?\n",
    "An F-test is any statistical test in which the test statistic has an F-distribution under the null hypothesis. It is most often used when comparing statistical models that have been fitted to a data set, in order to identify the model that best fits the population from which the data were sampled.\n",
    "\n",
    "Can an F test be negative?\n",
    "Thus, any F -statistic will always be non-negative. For a given sample, it is possible to get 0 if all conditional means are identical, or undefined if all data exactly equal the conditional means, but these are extremely unlikely to happen in practice even if the null hypothesis is completely true\n"
   ]
  },
  {
   "cell_type": "code",
   "execution_count": null,
   "metadata": {},
   "outputs": [],
   "source": [
    "from scipy.stats import f\n",
    "fig, ax = plt.subplots(1, 1)\n",
    "\n",
    "#Calculate a few first moments:\n",
    "dfn, dfd = 29, 18\n",
    "mean, var, skew, kurt = f.stats(dfn, dfd, moments='mvsk')\n",
    "\n",
    "#Display the probability density function (pdf):\n",
    "x = np.linspace(f.ppf(0.01, dfn, dfd),f.ppf(0.99, dfn, dfd), 100)\n",
    "ax.plot(x, f.pdf(x, dfn, dfd),'r-', lw=5, alpha=0.6, label='f pdf')\n",
    "\n",
    "# Alternatively, the distribution object can be called (as a function) to fix the shape, \n",
    "#location and scale parameters. This returns a “frozen” RV object holding the given parameters fixed.\n",
    "#Freeze the distribution and display the frozen pdf:\n",
    "rv = f(dfn, dfd)\n",
    "ax.plot(x, rv.pdf(x), 'k-', lw=2, label='frozen pdf')\n",
    "\n",
    "#Check accuracy of cdf and ppf:\n",
    "vals = f.ppf([0.001, 0.5, 0.999], dfn, dfd)\n",
    "np.allclose([0.001, 0.5, 0.999], f.cdf(vals, dfn, dfd))\n",
    "\n",
    "#Generate random numbers:\n",
    "r = f.rvs(dfn, dfd, size=1000)\n",
    "\n",
    "#And compare the histogram:\n",
    "ax.hist(r, normed=True, histtype='stepfilled', alpha=0.2)\n",
    "ax.legend(loc='best', frameon=False)\n",
    "plt.show()"
   ]
  },
  {
   "cell_type": "markdown",
   "metadata": {},
   "source": [
    "Chi Square Test\n",
    "\n",
    "A statistical method assessing the goodness of fit between a set of observed values and those expected theoretically.\n"
   ]
  },
  {
   "cell_type": "code",
   "execution_count": null,
   "metadata": {},
   "outputs": [],
   "source": [
    "from scipy.stats import chisquare\n",
    "print (chisquare([16, 18, 16, 14, 12, 12]))\n",
    "print (chisquare([16, 18, 16, 14, 12, 12], f_exp=[16, 16, 16, 16, 16, 8]))\n"
   ]
  },
  {
   "cell_type": "code",
   "execution_count": null,
   "metadata": {},
   "outputs": [],
   "source": []
  }
 ],
 "metadata": {
  "kernelspec": {
   "display_name": "Python 3",
   "language": "python",
   "name": "python3"
  },
  "language_info": {
   "codemirror_mode": {
    "name": "ipython",
    "version": 3
   },
   "file_extension": ".py",
   "mimetype": "text/x-python",
   "name": "python",
   "nbconvert_exporter": "python",
   "pygments_lexer": "ipython3",
   "version": "3.6.4"
  }
 },
 "nbformat": 4,
 "nbformat_minor": 2
}
